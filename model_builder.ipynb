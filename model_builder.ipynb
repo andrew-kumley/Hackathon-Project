{
 "cells": [
  {
   "cell_type": "markdown",
   "metadata": {},
   "source": [
    "### Installing Dependencies"
   ]
  },
  {
   "cell_type": "code",
   "execution_count": 48,
   "metadata": {},
   "outputs": [],
   "source": [
    "import os, sys, glob\n",
    "\n",
    "import matplotlib.pyplot as plt \n",
    "\n",
    "import numpy as np \n",
    "import pandas as pd\n",
    "import statsmodels.api as sm\n",
    "import seaborn as sns\n",
    "\n",
    "from sklearn.tree import DecisionTreeRegressor\n",
    "\n",
    "from sklearn.linear_model import LinearRegression"
   ]
  },
  {
   "cell_type": "code",
   "execution_count": 49,
   "metadata": {},
   "outputs": [],
   "source": [
    "test_sets = []\n",
    "all_files = glob.glob(os.path.join('blogfeedback', '*.csv'))\n",
    "\n",
    "for filename in all_files:\n",
    "    df = pd.read_csv(filename)\n",
    "    test_sets.append(df)\n",
    "\n",
    "train_data = pd.read_csv('blogData_train.csv')"
   ]
  },
  {
   "cell_type": "markdown",
   "metadata": {},
   "source": [
    "#### Feature Descriptions"
   ]
  },
  {
   "cell_type": "code",
   "execution_count": 50,
   "metadata": {},
   "outputs": [],
   "source": [
    "# 1...50: \n",
    "#       Average, standard deviation, min, max and median of the \n",
    "#       Attributes 51...60 for the source of the current blog post\n",
    "#       With source we mean the blog on which the post appeared. \n",
    "#       For example, myblog.blog.org would be the source of \n",
    "#       the post myblog.blog.org/post_2010_09_10 \n",
    "# 51:   Total number of comments before basetime\n",
    "# 52:   Number of comments in the last 24 hours before the \n",
    "#       basetime\n",
    "# 53:   Let T1 denote the datetime 48 hours before basetime,\n",
    "#       Let T2 denote the datetime 24 hours before basetime.\n",
    "#       This attribute is the number of comments in the time period \n",
    "#       between T1 and T2\n",
    "# 54:   Number of comments in the first 24 hours after the \n",
    "#       publication of the blog post, but before basetime\n",
    "# 55:   The difference of Attribute 52 and Attribute 53\n",
    "# 56...60: \n",
    "#       The same features as the attributes 51...55, but  \n",
    "#       features 56...60 refer to the number of links (trackbacks), \n",
    "#       while features 51...55 refer to the number of comments.\n",
    "# 61:   The length of time between the publication of the blog post \n",
    "#       and basetime\n",
    "# 62:   The length of the blog post\n",
    "# 63...262: \n",
    "#       The 200 bag of words features for 200 frequent words of the \n",
    "#       text of the blog post\n",
    "# 263...269: binary indicator features (0 or 1) for the weekday\n",
    "#       (Monday...Sunday) of the basetime\n",
    "# 270...276: binary indicator features (0 or 1) for the weekday\n",
    "#       (Monday...Sunday) of the date of publication of the blog\n",
    "#       post\n",
    "# 277:  Number of parent pages: we consider a blog post P as a\n",
    "#       parent of blog post B, if B is a reply (trackback) to \n",
    "#       blog post P.\n",
    "# 278...280:  \n",
    "#       Minimum, maximum, average number of comments that the \n",
    "#       parents received\n",
    "# 281:  The target: the number of comments in the next 24 hours\n",
    "#       (relative to basetime)"
   ]
  },
  {
   "cell_type": "markdown",
   "metadata": {},
   "source": [
    "### Feature Normalisation"
   ]
  },
  {
   "cell_type": "code",
   "execution_count": 51,
   "metadata": {},
   "outputs": [],
   "source": [
    "features_to_normalise = train_data.columns[50:60].append(train_data.columns[-1:])"
   ]
  },
  {
   "cell_type": "code",
   "execution_count": 52,
   "metadata": {},
   "outputs": [],
   "source": [
    "def find_target_stats(df):\n",
    "\n",
    "    target_means = df.groupby(list(df.columns[:50]))[['target']].mean()\n",
    "    target_stdev = df.groupby(list(df.columns[:50]))[['target']].std()\n",
    "\n",
    "    df = pd.merge(df, target_means, how = \"left\", left_on = list(df.columns[:50]), right_on= list(df.columns[:50])).rename(columns={\"target_x\": \"target\", \"target_y\" : \"target_avg\"})\n",
    "    df = pd.merge(df, target_stdev, how = \"left\", left_on = list(df.columns[:50]), right_on= list(df.columns[:50])).rename(columns={\"target_x\": \"target\", \"target_y\" : \"target_stdev\"})\n",
    "\n",
    "    df = df.fillna(0)\n",
    "\n",
    "    return df\n",
    "\n",
    "def normalise_features(features, df):\n",
    "\n",
    "    normalised_df = df.assign(**{\n",
    "        feat + '_in_site_stdevs': np.where(\n",
    "            df[feat + '_stdev'] == 0, 0,\n",
    "            (df[feat] - df[feat + '_avg']) / df[feat + '_stdev']\n",
    "        )\n",
    "        for feat in features_to_normalise\n",
    "    })\n",
    "\n",
    "    return normalised_df"
   ]
  },
  {
   "cell_type": "code",
   "execution_count": 53,
   "metadata": {},
   "outputs": [],
   "source": [
    "train_data = find_target_stats(train_data)\n",
    "normalised_df = normalise_features(features_to_normalise, train_data)"
   ]
  },
  {
   "cell_type": "markdown",
   "metadata": {},
   "source": [
    "### Feature Selection"
   ]
  },
  {
   "cell_type": "code",
   "execution_count": 55,
   "metadata": {},
   "outputs": [],
   "source": [
    "\n",
    "labels = train_data[['target']]\n",
    "\n",
    "all_feature_names = list(train_data.columns[0:280])\n",
    "all_features = train_data[all_feature_names]"
   ]
  },
  {
   "cell_type": "code",
   "execution_count": 56,
   "metadata": {},
   "outputs": [],
   "source": [
    "tree_model = DecisionTreeRegressor(max_depth=20).fit(all_features, labels)"
   ]
  },
  {
   "cell_type": "code",
   "execution_count": 68,
   "metadata": {},
   "outputs": [],
   "source": [
    "def get_features(tree):\n",
    "    feature_importances = tree.feature_importances_\n",
    "\n",
    "    imp_threshold = 0.01\n",
    "    selected_names = []\n",
    "    values = []\n",
    "\n",
    "    idx = 0\n",
    "    for imp_value in feature_importances:\n",
    "        if imp_value >= imp_threshold:\n",
    "            selected_names.append(all_features.columns[idx])\n",
    "            values.append(imp_value)\n",
    "        idx += 1\n",
    "    \n",
    "\n",
    "    return pd.Series(values, index=selected_names)"
   ]
  },
  {
   "cell_type": "code",
   "execution_count": 69,
   "metadata": {},
   "outputs": [
    {
     "name": "stdout",
     "output_type": "stream",
     "text": [
      "0.8281481689918144\n"
     ]
    },
    {
     "data": {
      "text/plain": [
       "links_1d             0.014003\n",
       "base_comments        0.015458\n",
       "comments_diff_avg    0.018061\n",
       "comments_firstDay    0.021273\n",
       "comments_diff        0.028433\n",
       "post_length          0.042299\n",
       "comments_1d          0.123592\n",
       "time_since_posted    0.228554\n",
       "comments_2d_stdev    0.243899\n",
       "dtype: float64"
      ]
     },
     "execution_count": 69,
     "metadata": {},
     "output_type": "execute_result"
    }
   ],
   "source": [
    "\n",
    "selected_names = get_features(tree_model).index\n",
    "selected_features = train_data[selected_names]\n",
    "tree_model2 = DecisionTreeRegressor(max_depth=10).fit(selected_features, labels)\n",
    "\n",
    "print(tree_model2.score(selected_features, labels))\n",
    "\n",
    "get_features(tree_model).sort_values()\n",
    "\n",
    "\n"
   ]
  },
  {
   "cell_type": "markdown",
   "metadata": {},
   "source": [
    "#### Linear Regression Model"
   ]
  },
  {
   "cell_type": "code",
   "execution_count": 70,
   "metadata": {},
   "outputs": [
    {
     "data": {
      "text/html": [
       "<style>#sk-container-id-6 {color: black;}#sk-container-id-6 pre{padding: 0;}#sk-container-id-6 div.sk-toggleable {background-color: white;}#sk-container-id-6 label.sk-toggleable__label {cursor: pointer;display: block;width: 100%;margin-bottom: 0;padding: 0.3em;box-sizing: border-box;text-align: center;}#sk-container-id-6 label.sk-toggleable__label-arrow:before {content: \"▸\";float: left;margin-right: 0.25em;color: #696969;}#sk-container-id-6 label.sk-toggleable__label-arrow:hover:before {color: black;}#sk-container-id-6 div.sk-estimator:hover label.sk-toggleable__label-arrow:before {color: black;}#sk-container-id-6 div.sk-toggleable__content {max-height: 0;max-width: 0;overflow: hidden;text-align: left;background-color: #f0f8ff;}#sk-container-id-6 div.sk-toggleable__content pre {margin: 0.2em;color: black;border-radius: 0.25em;background-color: #f0f8ff;}#sk-container-id-6 input.sk-toggleable__control:checked~div.sk-toggleable__content {max-height: 200px;max-width: 100%;overflow: auto;}#sk-container-id-6 input.sk-toggleable__control:checked~label.sk-toggleable__label-arrow:before {content: \"▾\";}#sk-container-id-6 div.sk-estimator input.sk-toggleable__control:checked~label.sk-toggleable__label {background-color: #d4ebff;}#sk-container-id-6 div.sk-label input.sk-toggleable__control:checked~label.sk-toggleable__label {background-color: #d4ebff;}#sk-container-id-6 input.sk-hidden--visually {border: 0;clip: rect(1px 1px 1px 1px);clip: rect(1px, 1px, 1px, 1px);height: 1px;margin: -1px;overflow: hidden;padding: 0;position: absolute;width: 1px;}#sk-container-id-6 div.sk-estimator {font-family: monospace;background-color: #f0f8ff;border: 1px dotted black;border-radius: 0.25em;box-sizing: border-box;margin-bottom: 0.5em;}#sk-container-id-6 div.sk-estimator:hover {background-color: #d4ebff;}#sk-container-id-6 div.sk-parallel-item::after {content: \"\";width: 100%;border-bottom: 1px solid gray;flex-grow: 1;}#sk-container-id-6 div.sk-label:hover label.sk-toggleable__label {background-color: #d4ebff;}#sk-container-id-6 div.sk-serial::before {content: \"\";position: absolute;border-left: 1px solid gray;box-sizing: border-box;top: 0;bottom: 0;left: 50%;z-index: 0;}#sk-container-id-6 div.sk-serial {display: flex;flex-direction: column;align-items: center;background-color: white;padding-right: 0.2em;padding-left: 0.2em;position: relative;}#sk-container-id-6 div.sk-item {position: relative;z-index: 1;}#sk-container-id-6 div.sk-parallel {display: flex;align-items: stretch;justify-content: center;background-color: white;position: relative;}#sk-container-id-6 div.sk-item::before, #sk-container-id-6 div.sk-parallel-item::before {content: \"\";position: absolute;border-left: 1px solid gray;box-sizing: border-box;top: 0;bottom: 0;left: 50%;z-index: -1;}#sk-container-id-6 div.sk-parallel-item {display: flex;flex-direction: column;z-index: 1;position: relative;background-color: white;}#sk-container-id-6 div.sk-parallel-item:first-child::after {align-self: flex-end;width: 50%;}#sk-container-id-6 div.sk-parallel-item:last-child::after {align-self: flex-start;width: 50%;}#sk-container-id-6 div.sk-parallel-item:only-child::after {width: 0;}#sk-container-id-6 div.sk-dashed-wrapped {border: 1px dashed gray;margin: 0 0.4em 0.5em 0.4em;box-sizing: border-box;padding-bottom: 0.4em;background-color: white;}#sk-container-id-6 div.sk-label label {font-family: monospace;font-weight: bold;display: inline-block;line-height: 1.2em;}#sk-container-id-6 div.sk-label-container {text-align: center;}#sk-container-id-6 div.sk-container {/* jupyter's `normalize.less` sets `[hidden] { display: none; }` but bootstrap.min.css set `[hidden] { display: none !important; }` so we also need the `!important` here to be able to override the default hidden behavior on the sphinx rendered scikit-learn.org. See: https://github.com/scikit-learn/scikit-learn/issues/21755 */display: inline-block !important;position: relative;}#sk-container-id-6 div.sk-text-repr-fallback {display: none;}</style><div id=\"sk-container-id-6\" class=\"sk-top-container\"><div class=\"sk-text-repr-fallback\"><pre>LinearRegression(fit_intercept=False)</pre><b>In a Jupyter environment, please rerun this cell to show the HTML representation or trust the notebook. <br />On GitHub, the HTML representation is unable to render, please try loading this page with nbviewer.org.</b></div><div class=\"sk-container\" hidden><div class=\"sk-item\"><div class=\"sk-estimator sk-toggleable\"><input class=\"sk-toggleable__control sk-hidden--visually\" id=\"sk-estimator-id-6\" type=\"checkbox\" checked><label for=\"sk-estimator-id-6\" class=\"sk-toggleable__label sk-toggleable__label-arrow\">LinearRegression</label><div class=\"sk-toggleable__content\"><pre>LinearRegression(fit_intercept=False)</pre></div></div></div></div></div>"
      ],
      "text/plain": [
       "LinearRegression(fit_intercept=False)"
      ]
     },
     "execution_count": 70,
     "metadata": {},
     "output_type": "execute_result"
    }
   ],
   "source": [
    "model = LinearRegression(fit_intercept=False)\n",
    "model.fit(selected_features, labels)"
   ]
  },
  {
   "cell_type": "code",
   "execution_count": 76,
   "metadata": {},
   "outputs": [
    {
     "data": {
      "text/plain": [
       "0.16854412014007922"
      ]
     },
     "execution_count": 76,
     "metadata": {},
     "output_type": "execute_result"
    }
   ],
   "source": [
    "scores = []\n",
    "\n",
    "val_sets = test_sets[:len(test_sets)//2]\n",
    "\n",
    "for _set in val_sets:\n",
    "    # _set = find_target_stats(_set)\n",
    "    # normalised_set = normalise_features(features_to_normalise, _set)\n",
    "    \n",
    "    features = _set[selected_names]\n",
    "    _labels = _set[['target']]\n",
    "\n",
    "    scores.append(model.score(features, _labels))\n",
    "\n",
    "np.mean(scores)"
   ]
  }
 ],
 "metadata": {
  "kernelspec": {
   "display_name": "py-310",
   "language": "python",
   "name": "python3"
  },
  "language_info": {
   "codemirror_mode": {
    "name": "ipython",
    "version": 3
   },
   "file_extension": ".py",
   "mimetype": "text/x-python",
   "name": "python",
   "nbconvert_exporter": "python",
   "pygments_lexer": "ipython3",
   "version": "3.11.5"
  }
 },
 "nbformat": 4,
 "nbformat_minor": 2
}
